{
 "cells": [
  {
   "cell_type": "code",
   "execution_count": 1,
   "metadata": {},
   "outputs": [],
   "source": [
    "import json"
   ]
  },
  {
   "cell_type": "code",
   "execution_count": 2,
   "metadata": {},
   "outputs": [],
   "source": [
    "def get_column_names(schemas, ds_name, sorting_key='column_position'):\n",
    "    column_details = schemas[ds_name]\n",
    "    columns = sorted(column_details, key=lambda col: col[sorting_key])\n",
    "    return [col['column_name'] for col in columns]"
   ]
  },
  {
   "cell_type": "code",
   "execution_count": 3,
   "metadata": {},
   "outputs": [],
   "source": [
    "file_path = '/Users/macintosh/Desktop/data_engineering_Esentials_using/data/retail_db/schemas.json'\n",
    "schemas = json.load(open(file_path))"
   ]
  },
  {
   "cell_type": "code",
   "execution_count": 4,
   "metadata": {},
   "outputs": [],
   "source": [
    "import glob"
   ]
  },
  {
   "cell_type": "code",
   "execution_count": 11,
   "metadata": {},
   "outputs": [
    {
     "data": {
      "text/plain": [
       "['/Users/macintosh/Desktop/data_engineering_Esentials_using/data/retail_db/customers/part-00000',\n",
       " '/Users/macintosh/Desktop/data_engineering_Esentials_using/data/retail_db/products/part-00000',\n",
       " '/Users/macintosh/Desktop/data_engineering_Esentials_using/data/retail_db/departments/part-00000',\n",
       " '/Users/macintosh/Desktop/data_engineering_Esentials_using/data/retail_db/order_items/part-00000',\n",
       " '/Users/macintosh/Desktop/data_engineering_Esentials_using/data/retail_db/order_json/part-00000',\n",
       " '/Users/macintosh/Desktop/data_engineering_Esentials_using/data/retail_db/orders/part-00000',\n",
       " '/Users/macintosh/Desktop/data_engineering_Esentials_using/data/retail_db/categories/part-00000']"
      ]
     },
     "execution_count": 11,
     "metadata": {},
     "output_type": "execute_result"
    }
   ],
   "source": [
    "src_file_names = glob.glob('/Users/macintosh/Desktop/data_engineering_Esentials_using/data/retail_db/*/part*')\n",
    "src_file_names"
   ]
  },
  {
   "cell_type": "code",
   "execution_count": 12,
   "metadata": {},
   "outputs": [],
   "source": [
    "import pandas as pd"
   ]
  },
  {
   "cell_type": "code",
   "execution_count": 13,
   "metadata": {},
   "outputs": [],
   "source": [
    "s = 's/a\\\\b\\\\c'"
   ]
  },
  {
   "cell_type": "code",
   "execution_count": 14,
   "metadata": {},
   "outputs": [
    {
     "data": {
      "text/plain": [
       "['s/a', 'b', 'c']"
      ]
     },
     "execution_count": 14,
     "metadata": {},
     "output_type": "execute_result"
    }
   ],
   "source": [
    "s.split('\\\\')"
   ]
  },
  {
   "cell_type": "code",
   "execution_count": 15,
   "metadata": {},
   "outputs": [],
   "source": [
    "import re"
   ]
  },
  {
   "cell_type": "code",
   "execution_count": 16,
   "metadata": {},
   "outputs": [
    {
     "data": {
      "text/plain": [
       "['s', 'a', 'b', 'c']"
      ]
     },
     "execution_count": 16,
     "metadata": {},
     "output_type": "execute_result"
    }
   ],
   "source": [
    "re.split('[/\\\\\\]', s)"
   ]
  },
  {
   "cell_type": "code",
   "execution_count": 17,
   "metadata": {},
   "outputs": [
    {
     "name": "stdout",
     "output_type": "stream",
     "text": [
      "['', 'Users', 'macintosh', 'Desktop', 'data_engineering_Esentials_using', 'data', 'retail_db', 'customers', 'part-00000']\n",
      "['', 'Users', 'macintosh', 'Desktop', 'data_engineering_Esentials_using', 'data', 'retail_db', 'products', 'part-00000']\n",
      "['', 'Users', 'macintosh', 'Desktop', 'data_engineering_Esentials_using', 'data', 'retail_db', 'departments', 'part-00000']\n",
      "['', 'Users', 'macintosh', 'Desktop', 'data_engineering_Esentials_using', 'data', 'retail_db', 'order_items', 'part-00000']\n",
      "['', 'Users', 'macintosh', 'Desktop', 'data_engineering_Esentials_using', 'data', 'retail_db', 'order_json', 'part-00000']\n",
      "['', 'Users', 'macintosh', 'Desktop', 'data_engineering_Esentials_using', 'data', 'retail_db', 'orders', 'part-00000']\n",
      "['', 'Users', 'macintosh', 'Desktop', 'data_engineering_Esentials_using', 'data', 'retail_db', 'categories', 'part-00000']\n"
     ]
    }
   ],
   "source": [
    "for file in src_file_names:\n",
    "    print(re.split('[/\\\\\\]', file))"
   ]
  },
  {
   "cell_type": "code",
   "execution_count": 18,
   "metadata": {},
   "outputs": [
    {
     "data": {
      "text/plain": [
       "'/Users/macintosh/Desktop/data_engineering_Esentials_using/data/retail_db/customers/part-00000'"
      ]
     },
     "execution_count": 18,
     "metadata": {},
     "output_type": "execute_result"
    }
   ],
   "source": [
    "file = src_file_names[0]\n",
    "file"
   ]
  },
  {
   "cell_type": "code",
   "execution_count": 25,
   "metadata": {},
   "outputs": [
    {
     "data": {
      "text/plain": [
       "['Users',\n",
       " 'macintosh',\n",
       " 'Desktop',\n",
       " 'data_engineering_Esentials_using',\n",
       " 'data',\n",
       " 'retail_db',\n",
       " 'customers',\n",
       " 'part-00000']"
      ]
     },
     "execution_count": 25,
     "metadata": {},
     "output_type": "execute_result"
    }
   ],
   "source": [
    "file_details = re.split('[/\\\\\\]',file)[1:]\n",
    "file_details"
   ]
  },
  {
   "cell_type": "code",
   "execution_count": 27,
   "metadata": {},
   "outputs": [
    {
     "data": {
      "text/plain": [
       "'customers'"
      ]
     },
     "execution_count": 27,
     "metadata": {},
     "output_type": "execute_result"
    }
   ],
   "source": [
    "ds_name = file_details[-2]\n",
    "ds_name"
   ]
  },
  {
   "cell_type": "code",
   "execution_count": 29,
   "metadata": {},
   "outputs": [
    {
     "data": {
      "text/plain": [
       "['customer_id',\n",
       " 'customer_fname',\n",
       " 'customer_lname',\n",
       " 'customer_email',\n",
       " 'customer_password',\n",
       " 'customer_street',\n",
       " 'customer_city',\n",
       " 'customer_state',\n",
       " 'customer_zipcode']"
      ]
     },
     "execution_count": 29,
     "metadata": {},
     "output_type": "execute_result"
    }
   ],
   "source": [
    "columns = get_column_names(schemas, ds_name)\n",
    "columns"
   ]
  },
  {
   "cell_type": "code",
   "execution_count": 30,
   "metadata": {},
   "outputs": [],
   "source": [
    "import pandas as pd"
   ]
  },
  {
   "cell_type": "code",
   "execution_count": 32,
   "metadata": {},
   "outputs": [
    {
     "data": {
      "text/html": [
       "<div>\n",
       "<style scoped>\n",
       "    .dataframe tbody tr th:only-of-type {\n",
       "        vertical-align: middle;\n",
       "    }\n",
       "\n",
       "    .dataframe tbody tr th {\n",
       "        vertical-align: top;\n",
       "    }\n",
       "\n",
       "    .dataframe thead th {\n",
       "        text-align: right;\n",
       "    }\n",
       "</style>\n",
       "<table border=\"1\" class=\"dataframe\">\n",
       "  <thead>\n",
       "    <tr style=\"text-align: right;\">\n",
       "      <th></th>\n",
       "      <th>customer_id</th>\n",
       "      <th>customer_fname</th>\n",
       "      <th>customer_lname</th>\n",
       "      <th>customer_email</th>\n",
       "      <th>customer_password</th>\n",
       "      <th>customer_street</th>\n",
       "      <th>customer_city</th>\n",
       "      <th>customer_state</th>\n",
       "      <th>customer_zipcode</th>\n",
       "    </tr>\n",
       "  </thead>\n",
       "  <tbody>\n",
       "    <tr>\n",
       "      <th>0</th>\n",
       "      <td>1</td>\n",
       "      <td>Richard</td>\n",
       "      <td>Hernandez</td>\n",
       "      <td>XXXXXXXXX</td>\n",
       "      <td>XXXXXXXXX</td>\n",
       "      <td>6303 Heather Plaza</td>\n",
       "      <td>Brownsville</td>\n",
       "      <td>TX</td>\n",
       "      <td>78521</td>\n",
       "    </tr>\n",
       "    <tr>\n",
       "      <th>1</th>\n",
       "      <td>2</td>\n",
       "      <td>Mary</td>\n",
       "      <td>Barrett</td>\n",
       "      <td>XXXXXXXXX</td>\n",
       "      <td>XXXXXXXXX</td>\n",
       "      <td>9526 Noble Embers Ridge</td>\n",
       "      <td>Littleton</td>\n",
       "      <td>CO</td>\n",
       "      <td>80126</td>\n",
       "    </tr>\n",
       "    <tr>\n",
       "      <th>2</th>\n",
       "      <td>3</td>\n",
       "      <td>Ann</td>\n",
       "      <td>Smith</td>\n",
       "      <td>XXXXXXXXX</td>\n",
       "      <td>XXXXXXXXX</td>\n",
       "      <td>3422 Blue Pioneer Bend</td>\n",
       "      <td>Caguas</td>\n",
       "      <td>PR</td>\n",
       "      <td>725</td>\n",
       "    </tr>\n",
       "    <tr>\n",
       "      <th>3</th>\n",
       "      <td>4</td>\n",
       "      <td>Mary</td>\n",
       "      <td>Jones</td>\n",
       "      <td>XXXXXXXXX</td>\n",
       "      <td>XXXXXXXXX</td>\n",
       "      <td>8324 Little Common</td>\n",
       "      <td>San Marcos</td>\n",
       "      <td>CA</td>\n",
       "      <td>92069</td>\n",
       "    </tr>\n",
       "    <tr>\n",
       "      <th>4</th>\n",
       "      <td>5</td>\n",
       "      <td>Robert</td>\n",
       "      <td>Hudson</td>\n",
       "      <td>XXXXXXXXX</td>\n",
       "      <td>XXXXXXXXX</td>\n",
       "      <td>10 Crystal River Mall</td>\n",
       "      <td>Caguas</td>\n",
       "      <td>PR</td>\n",
       "      <td>725</td>\n",
       "    </tr>\n",
       "  </tbody>\n",
       "</table>\n",
       "</div>"
      ],
      "text/plain": [
       "   customer_id customer_fname customer_lname customer_email customer_password  \\\n",
       "0            1        Richard      Hernandez      XXXXXXXXX         XXXXXXXXX   \n",
       "1            2           Mary        Barrett      XXXXXXXXX         XXXXXXXXX   \n",
       "2            3            Ann          Smith      XXXXXXXXX         XXXXXXXXX   \n",
       "3            4           Mary          Jones      XXXXXXXXX         XXXXXXXXX   \n",
       "4            5         Robert         Hudson      XXXXXXXXX         XXXXXXXXX   \n",
       "\n",
       "           customer_street customer_city customer_state  customer_zipcode  \n",
       "0       6303 Heather Plaza   Brownsville             TX             78521  \n",
       "1  9526 Noble Embers Ridge     Littleton             CO             80126  \n",
       "2   3422 Blue Pioneer Bend        Caguas             PR               725  \n",
       "3       8324 Little Common    San Marcos             CA             92069  \n",
       "4   10 Crystal River Mall         Caguas             PR               725  "
      ]
     },
     "execution_count": 32,
     "metadata": {},
     "output_type": "execute_result"
    }
   ],
   "source": [
    "df = pd.read_csv(file, names=columns)\n",
    "df.head()"
   ]
  },
  {
   "cell_type": "code",
   "execution_count": 33,
   "metadata": {},
   "outputs": [
    {
     "data": {
      "text/plain": [
       "(12435, 9)"
      ]
     },
     "execution_count": 33,
     "metadata": {},
     "output_type": "execute_result"
    }
   ],
   "source": [
    "df.shape"
   ]
  },
  {
   "cell_type": "code",
   "execution_count": 34,
   "metadata": {},
   "outputs": [
    {
     "name": "stdout",
     "output_type": "stream",
     "text": [
      "Processing /Users/macintosh/Desktop/data_engineering_Esentials_using/data/retail_db/customers/part-00000\n",
      "Shape of customers is (12435, 9)\n",
      "Processing /Users/macintosh/Desktop/data_engineering_Esentials_using/data/retail_db/products/part-00000\n",
      "Shape of customers is (1345, 9)\n",
      "Processing /Users/macintosh/Desktop/data_engineering_Esentials_using/data/retail_db/departments/part-00000\n",
      "Shape of customers is (6, 9)\n",
      "Processing /Users/macintosh/Desktop/data_engineering_Esentials_using/data/retail_db/order_items/part-00000\n",
      "Shape of customers is (172198, 9)\n",
      "Processing /Users/macintosh/Desktop/data_engineering_Esentials_using/data/retail_db/order_json/part-00000\n",
      "Shape of customers is (68883, 9)\n",
      "Processing /Users/macintosh/Desktop/data_engineering_Esentials_using/data/retail_db/orders/part-00000\n",
      "Shape of customers is (68883, 9)\n",
      "Processing /Users/macintosh/Desktop/data_engineering_Esentials_using/data/retail_db/categories/part-00000\n",
      "Shape of customers is (58, 9)\n"
     ]
    }
   ],
   "source": [
    "for file in src_file_names:\n",
    "    print(f'Processing {file}')\n",
    "    ds_name = file_details[-2]\n",
    "    columns = get_column_names(schemas, ds_name)\n",
    "    df = pd.read_csv(file, names=columns)\n",
    "    print(f'Shape of {ds_name} is {df.shape}')"
   ]
  },
  {
   "cell_type": "code",
   "execution_count": 36,
   "metadata": {},
   "outputs": [
    {
     "data": {
      "text/html": [
       "<div>\n",
       "<style scoped>\n",
       "    .dataframe tbody tr th:only-of-type {\n",
       "        vertical-align: middle;\n",
       "    }\n",
       "\n",
       "    .dataframe tbody tr th {\n",
       "        vertical-align: top;\n",
       "    }\n",
       "\n",
       "    .dataframe thead th {\n",
       "        text-align: right;\n",
       "    }\n",
       "</style>\n",
       "<table border=\"1\" class=\"dataframe\">\n",
       "  <thead>\n",
       "    <tr style=\"text-align: right;\">\n",
       "      <th></th>\n",
       "      <th>customer_id</th>\n",
       "      <th>customer_fname</th>\n",
       "      <th>customer_lname</th>\n",
       "      <th>customer_email</th>\n",
       "      <th>customer_password</th>\n",
       "      <th>customer_street</th>\n",
       "      <th>customer_city</th>\n",
       "      <th>customer_state</th>\n",
       "      <th>customer_zipcode</th>\n",
       "    </tr>\n",
       "  </thead>\n",
       "  <tbody>\n",
       "    <tr>\n",
       "      <th>0</th>\n",
       "      <td>1</td>\n",
       "      <td>2</td>\n",
       "      <td>Football</td>\n",
       "      <td>NaN</td>\n",
       "      <td>NaN</td>\n",
       "      <td>NaN</td>\n",
       "      <td>NaN</td>\n",
       "      <td>NaN</td>\n",
       "      <td>NaN</td>\n",
       "    </tr>\n",
       "    <tr>\n",
       "      <th>1</th>\n",
       "      <td>2</td>\n",
       "      <td>2</td>\n",
       "      <td>Soccer</td>\n",
       "      <td>NaN</td>\n",
       "      <td>NaN</td>\n",
       "      <td>NaN</td>\n",
       "      <td>NaN</td>\n",
       "      <td>NaN</td>\n",
       "      <td>NaN</td>\n",
       "    </tr>\n",
       "    <tr>\n",
       "      <th>2</th>\n",
       "      <td>3</td>\n",
       "      <td>2</td>\n",
       "      <td>Baseball &amp; Softball</td>\n",
       "      <td>NaN</td>\n",
       "      <td>NaN</td>\n",
       "      <td>NaN</td>\n",
       "      <td>NaN</td>\n",
       "      <td>NaN</td>\n",
       "      <td>NaN</td>\n",
       "    </tr>\n",
       "    <tr>\n",
       "      <th>3</th>\n",
       "      <td>4</td>\n",
       "      <td>2</td>\n",
       "      <td>Basketball</td>\n",
       "      <td>NaN</td>\n",
       "      <td>NaN</td>\n",
       "      <td>NaN</td>\n",
       "      <td>NaN</td>\n",
       "      <td>NaN</td>\n",
       "      <td>NaN</td>\n",
       "    </tr>\n",
       "    <tr>\n",
       "      <th>4</th>\n",
       "      <td>5</td>\n",
       "      <td>2</td>\n",
       "      <td>Lacrosse</td>\n",
       "      <td>NaN</td>\n",
       "      <td>NaN</td>\n",
       "      <td>NaN</td>\n",
       "      <td>NaN</td>\n",
       "      <td>NaN</td>\n",
       "      <td>NaN</td>\n",
       "    </tr>\n",
       "  </tbody>\n",
       "</table>\n",
       "</div>"
      ],
      "text/plain": [
       "   customer_id  customer_fname       customer_lname  customer_email  \\\n",
       "0            1               2             Football             NaN   \n",
       "1            2               2               Soccer             NaN   \n",
       "2            3               2  Baseball & Softball             NaN   \n",
       "3            4               2           Basketball             NaN   \n",
       "4            5               2             Lacrosse             NaN   \n",
       "\n",
       "   customer_password  customer_street  customer_city  customer_state  \\\n",
       "0                NaN              NaN            NaN             NaN   \n",
       "1                NaN              NaN            NaN             NaN   \n",
       "2                NaN              NaN            NaN             NaN   \n",
       "3                NaN              NaN            NaN             NaN   \n",
       "4                NaN              NaN            NaN             NaN   \n",
       "\n",
       "   customer_zipcode  \n",
       "0               NaN  \n",
       "1               NaN  \n",
       "2               NaN  \n",
       "3               NaN  \n",
       "4               NaN  "
      ]
     },
     "execution_count": 36,
     "metadata": {},
     "output_type": "execute_result"
    }
   ],
   "source": [
    "df.head()"
   ]
  },
  {
   "cell_type": "code",
   "execution_count": null,
   "metadata": {},
   "outputs": [],
   "source": []
  }
 ],
 "metadata": {
  "kernelspec": {
   "display_name": "Python 3",
   "language": "python",
   "name": "python3"
  },
  "language_info": {
   "codemirror_mode": {
    "name": "ipython",
    "version": 3
   },
   "file_extension": ".py",
   "mimetype": "text/x-python",
   "name": "python",
   "nbconvert_exporter": "python",
   "pygments_lexer": "ipython3",
   "version": "3.9.13"
  },
  "orig_nbformat": 4
 },
 "nbformat": 4,
 "nbformat_minor": 2
}
