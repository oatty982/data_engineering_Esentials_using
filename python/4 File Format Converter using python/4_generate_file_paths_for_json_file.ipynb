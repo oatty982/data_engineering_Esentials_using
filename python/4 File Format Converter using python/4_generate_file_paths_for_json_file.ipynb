{
 "cells": [
  {
   "cell_type": "code",
   "execution_count": 19,
   "metadata": {},
   "outputs": [],
   "source": [
    "import glob\n",
    "import json\n",
    "import pandas as pd\n",
    "import os"
   ]
  },
  {
   "cell_type": "code",
   "execution_count": 20,
   "metadata": {},
   "outputs": [],
   "source": [
    "def get_column_names(schemas, ds_name, sorting_key='column_position'):\n",
    "    column_details = schemas.get(ds_name, [])\n",
    "    columns = sorted(column_details, key=lambda col: col.get(sorting_key, 0)) \n",
    "    return [col['column_name'] for col in columns]"
   ]
  },
  {
   "cell_type": "code",
   "execution_count": 21,
   "metadata": {},
   "outputs": [],
   "source": [
    "tgt_base_dir = '/Users/macintosh/Desktop/data_engineering_Esentials_using/data/retail_db_json'"
   ]
  },
  {
   "cell_type": "code",
   "execution_count": 22,
   "metadata": {},
   "outputs": [],
   "source": [
    "file_path = '/Users/macintosh/Desktop/data_engineering_Esentials_using/data/retail_db/schemas.json'\n",
    "schemas = json.load(open(file_path))"
   ]
  },
  {
   "cell_type": "code",
   "execution_count": 23,
   "metadata": {},
   "outputs": [
    {
     "data": {
      "text/plain": [
       "['/Users/macintosh/Desktop/data_engineering_Esentials_using/data/retail_db/customers/part-00000',\n",
       " '/Users/macintosh/Desktop/data_engineering_Esentials_using/data/retail_db/products/part-00000',\n",
       " '/Users/macintosh/Desktop/data_engineering_Esentials_using/data/retail_db/departments/part-00000',\n",
       " '/Users/macintosh/Desktop/data_engineering_Esentials_using/data/retail_db/order_items/part-00000',\n",
       " '/Users/macintosh/Desktop/data_engineering_Esentials_using/data/retail_db/order_json/part-00000',\n",
       " '/Users/macintosh/Desktop/data_engineering_Esentials_using/data/retail_db/orders/part-00000',\n",
       " '/Users/macintosh/Desktop/data_engineering_Esentials_using/data/retail_db/categories/part-00000']"
      ]
     },
     "execution_count": 23,
     "metadata": {},
     "output_type": "execute_result"
    }
   ],
   "source": [
    "src_file_names = glob.glob('/Users/macintosh/Desktop/data_engineering_Esentials_using/data/retail_db/*/part*')\n",
    "src_file_names"
   ]
  },
  {
   "cell_type": "code",
   "execution_count": 24,
   "metadata": {},
   "outputs": [],
   "source": [
    "import re"
   ]
  },
  {
   "cell_type": "code",
   "execution_count": 25,
   "metadata": {},
   "outputs": [
    {
     "name": "stdout",
     "output_type": "stream",
     "text": [
      "['', 'Users', 'macintosh', 'Desktop', 'data_engineering_Esentials_using', 'data', 'retail_db', 'customers', 'part-00000']\n",
      "['', 'Users', 'macintosh', 'Desktop', 'data_engineering_Esentials_using', 'data', 'retail_db', 'products', 'part-00000']\n",
      "['', 'Users', 'macintosh', 'Desktop', 'data_engineering_Esentials_using', 'data', 'retail_db', 'departments', 'part-00000']\n",
      "['', 'Users', 'macintosh', 'Desktop', 'data_engineering_Esentials_using', 'data', 'retail_db', 'order_items', 'part-00000']\n",
      "['', 'Users', 'macintosh', 'Desktop', 'data_engineering_Esentials_using', 'data', 'retail_db', 'order_json', 'part-00000']\n",
      "['', 'Users', 'macintosh', 'Desktop', 'data_engineering_Esentials_using', 'data', 'retail_db', 'orders', 'part-00000']\n",
      "['', 'Users', 'macintosh', 'Desktop', 'data_engineering_Esentials_using', 'data', 'retail_db', 'categories', 'part-00000']\n"
     ]
    }
   ],
   "source": [
    "for file in src_file_names:\n",
    "    print(re.split('[/\\\\\\]', file))"
   ]
  },
  {
   "cell_type": "code",
   "execution_count": 26,
   "metadata": {},
   "outputs": [],
   "source": [
    "base_dir = '/Users/macintosh/Desktop/data_engineering_Esentials_using/data/retail_db_json'"
   ]
  },
  {
   "cell_type": "code",
   "execution_count": 27,
   "metadata": {},
   "outputs": [
    {
     "data": {
      "text/plain": [
       "'/Users/macintosh/Desktop/data_engineering_Esentials_using/data/retail_db/customers/part-00000'"
      ]
     },
     "execution_count": 27,
     "metadata": {},
     "output_type": "execute_result"
    }
   ],
   "source": [
    "file = src_file_names[0]\n",
    "file"
   ]
  },
  {
   "cell_type": "code",
   "execution_count": 28,
   "metadata": {},
   "outputs": [
    {
     "data": {
      "text/plain": [
       "['',\n",
       " 'Users',\n",
       " 'macintosh',\n",
       " 'Desktop',\n",
       " 'data_engineering_Esentials_using',\n",
       " 'data',\n",
       " 'retail_db',\n",
       " 'customers',\n",
       " 'part-00000']"
      ]
     },
     "execution_count": 28,
     "metadata": {},
     "output_type": "execute_result"
    }
   ],
   "source": [
    "file_path_list = re.split('[/\\\\\\]', file)\n",
    "file_path_list"
   ]
  },
  {
   "cell_type": "code",
   "execution_count": 29,
   "metadata": {},
   "outputs": [],
   "source": [
    "ds_name = file_path_list[-2]"
   ]
  },
  {
   "cell_type": "code",
   "execution_count": 30,
   "metadata": {},
   "outputs": [],
   "source": [
    "file_name = file_path_list[-1]"
   ]
  },
  {
   "cell_type": "code",
   "execution_count": 31,
   "metadata": {},
   "outputs": [
    {
     "data": {
      "text/plain": [
       "'/Users/macintosh/Desktop/data_engineering_Esentials_using/data/retail_db_json/customers/part-00000'"
      ]
     },
     "execution_count": 31,
     "metadata": {},
     "output_type": "execute_result"
    }
   ],
   "source": [
    "f'{base_dir}/{ds_name}/{file_name}'"
   ]
  },
  {
   "cell_type": "code",
   "execution_count": 32,
   "metadata": {},
   "outputs": [
    {
     "name": "stdout",
     "output_type": "stream",
     "text": [
      "/Users/macintosh/Desktop/data_engineering_Esentials_using/data/retail_db_json/customers/part-00000\n",
      "/Users/macintosh/Desktop/data_engineering_Esentials_using/data/retail_db_json/products/part-00000\n",
      "/Users/macintosh/Desktop/data_engineering_Esentials_using/data/retail_db_json/departments/part-00000\n",
      "/Users/macintosh/Desktop/data_engineering_Esentials_using/data/retail_db_json/order_items/part-00000\n",
      "/Users/macintosh/Desktop/data_engineering_Esentials_using/data/retail_db_json/order_json/part-00000\n",
      "/Users/macintosh/Desktop/data_engineering_Esentials_using/data/retail_db_json/orders/part-00000\n",
      "/Users/macintosh/Desktop/data_engineering_Esentials_using/data/retail_db_json/categories/part-00000\n"
     ]
    }
   ],
   "source": [
    "for file in src_file_names:\n",
    "    file_path_list = re.split('[/\\\\\\]', file)\n",
    "    ds_name = file_path_list[-2]\n",
    "    file_name = file_path_list[-1]\n",
    "    json_file_path = f'{base_dir}/{ds_name}/{file_name}'\n",
    "    print(json_file_path)"
   ]
  },
  {
   "cell_type": "code",
   "execution_count": 33,
   "metadata": {},
   "outputs": [
    {
     "name": "stdout",
     "output_type": "stream",
     "text": [
      "Processing /Users/macintosh/Desktop/data_engineering_Esentials_using/data/retail_db/customers/part-00000\n",
      "Processing /Users/macintosh/Desktop/data_engineering_Esentials_using/data/retail_db/products/part-00000\n",
      "Processing /Users/macintosh/Desktop/data_engineering_Esentials_using/data/retail_db/departments/part-00000\n",
      "Processing /Users/macintosh/Desktop/data_engineering_Esentials_using/data/retail_db/order_items/part-00000\n",
      "Processing /Users/macintosh/Desktop/data_engineering_Esentials_using/data/retail_db/order_json/part-00000\n",
      "Processing /Users/macintosh/Desktop/data_engineering_Esentials_using/data/retail_db/orders/part-00000\n",
      "Processing /Users/macintosh/Desktop/data_engineering_Esentials_using/data/retail_db/categories/part-00000\n"
     ]
    }
   ],
   "source": [
    "for file in src_file_names:\n",
    "    print(f'Processing {file}')\n",
    "    file_path_list = re.split('[/\\\\\\]',file)\n",
    "    ds_name = file_path_list[-2]\n",
    "    file_name = file_path_list[-1]\n",
    "    json_file_path = f'{base_dir}/{ds_name}/{file_name}'\n",
    "    columns = get_column_names(schemas, ds_name)\n",
    "    df = pd.read_csv(file, names=columns)\n",
    "    os.makedirs(f'{tgt_base_dir}/{ds_name}', exist_ok=True)\n",
    "    df.to_json(\n",
    "        json_file_path,\n",
    "        orient='records',\n",
    "        lines=True\n",
    "    )"
   ]
  },
  {
   "cell_type": "code",
   "execution_count": null,
   "metadata": {},
   "outputs": [],
   "source": []
  }
 ],
 "metadata": {
  "kernelspec": {
   "display_name": "Python 3",
   "language": "python",
   "name": "python3"
  },
  "language_info": {
   "codemirror_mode": {
    "name": "ipython",
    "version": 3
   },
   "file_extension": ".py",
   "mimetype": "text/x-python",
   "name": "python",
   "nbconvert_exporter": "python",
   "pygments_lexer": "ipython3",
   "version": "3.9.13"
  },
  "orig_nbformat": 4
 },
 "nbformat": 4,
 "nbformat_minor": 2
}
