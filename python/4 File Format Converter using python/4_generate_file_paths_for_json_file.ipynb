{
 "cells": [
  {
   "cell_type": "code",
   "execution_count": 14,
   "metadata": {},
   "outputs": [],
   "source": [
    "import glob"
   ]
  },
  {
   "cell_type": "code",
   "execution_count": 16,
   "metadata": {},
   "outputs": [
    {
     "data": {
      "text/plain": [
       "['/Users/macintosh/Desktop/data_engineering_Esentials_using/data/retail_db/customers/part-00000',\n",
       " '/Users/macintosh/Desktop/data_engineering_Esentials_using/data/retail_db/products/part-00000',\n",
       " '/Users/macintosh/Desktop/data_engineering_Esentials_using/data/retail_db/departments/part-00000',\n",
       " '/Users/macintosh/Desktop/data_engineering_Esentials_using/data/retail_db/order_items/part-00000',\n",
       " '/Users/macintosh/Desktop/data_engineering_Esentials_using/data/retail_db/order_json/part-00000',\n",
       " '/Users/macintosh/Desktop/data_engineering_Esentials_using/data/retail_db/orders/part-00000',\n",
       " '/Users/macintosh/Desktop/data_engineering_Esentials_using/data/retail_db/categories/part-00000']"
      ]
     },
     "execution_count": 16,
     "metadata": {},
     "output_type": "execute_result"
    }
   ],
   "source": [
    "src_file_names = glob.glob('/Users/macintosh/Desktop/data_engineering_Esentials_using/data/retail_db/*/part*')\n",
    "src_file_names"
   ]
  },
  {
   "cell_type": "code",
   "execution_count": 17,
   "metadata": {},
   "outputs": [],
   "source": [
    "import re"
   ]
  },
  {
   "cell_type": "code",
   "execution_count": 18,
   "metadata": {},
   "outputs": [
    {
     "name": "stdout",
     "output_type": "stream",
     "text": [
      "['', 'Users', 'macintosh', 'Desktop', 'data_engineering_Esentials_using', 'data', 'retail_db', 'customers', 'part-00000']\n",
      "['', 'Users', 'macintosh', 'Desktop', 'data_engineering_Esentials_using', 'data', 'retail_db', 'products', 'part-00000']\n",
      "['', 'Users', 'macintosh', 'Desktop', 'data_engineering_Esentials_using', 'data', 'retail_db', 'departments', 'part-00000']\n",
      "['', 'Users', 'macintosh', 'Desktop', 'data_engineering_Esentials_using', 'data', 'retail_db', 'order_items', 'part-00000']\n",
      "['', 'Users', 'macintosh', 'Desktop', 'data_engineering_Esentials_using', 'data', 'retail_db', 'order_json', 'part-00000']\n",
      "['', 'Users', 'macintosh', 'Desktop', 'data_engineering_Esentials_using', 'data', 'retail_db', 'orders', 'part-00000']\n",
      "['', 'Users', 'macintosh', 'Desktop', 'data_engineering_Esentials_using', 'data', 'retail_db', 'categories', 'part-00000']\n"
     ]
    }
   ],
   "source": [
    "for file in src_file_names:\n",
    "    print(re.split('[/\\\\\\]', file))"
   ]
  },
  {
   "cell_type": "code",
   "execution_count": 19,
   "metadata": {},
   "outputs": [],
   "source": [
    "base_dir = '/Users/macintosh/Desktop/data_engineering_Esentials_using/data/retail_db_json'"
   ]
  },
  {
   "cell_type": "code",
   "execution_count": 20,
   "metadata": {},
   "outputs": [
    {
     "data": {
      "text/plain": [
       "'/Users/macintosh/Desktop/data_engineering_Esentials_using/data/retail_db/customers/part-00000'"
      ]
     },
     "execution_count": 20,
     "metadata": {},
     "output_type": "execute_result"
    }
   ],
   "source": [
    "file = src_file_names[0]\n",
    "file"
   ]
  },
  {
   "cell_type": "code",
   "execution_count": 21,
   "metadata": {},
   "outputs": [
    {
     "data": {
      "text/plain": [
       "['',\n",
       " 'Users',\n",
       " 'macintosh',\n",
       " 'Desktop',\n",
       " 'data_engineering_Esentials_using',\n",
       " 'data',\n",
       " 'retail_db',\n",
       " 'customers',\n",
       " 'part-00000']"
      ]
     },
     "execution_count": 21,
     "metadata": {},
     "output_type": "execute_result"
    }
   ],
   "source": [
    "file_path_list = re.split('[/\\\\\\]', file)\n",
    "file_path_list"
   ]
  },
  {
   "cell_type": "code",
   "execution_count": 22,
   "metadata": {},
   "outputs": [],
   "source": [
    "ds_name = file_path_list[-2]"
   ]
  },
  {
   "cell_type": "code",
   "execution_count": 23,
   "metadata": {},
   "outputs": [],
   "source": [
    "file_name = file_path_list[-1]"
   ]
  },
  {
   "cell_type": "code",
   "execution_count": 24,
   "metadata": {},
   "outputs": [
    {
     "data": {
      "text/plain": [
       "'/Users/macintosh/Desktop/data_engineering_Esentials_using/data/retail_db_json/customers/part-00000'"
      ]
     },
     "execution_count": 24,
     "metadata": {},
     "output_type": "execute_result"
    }
   ],
   "source": [
    "f'{base_dir}/{ds_name}/{file_name}'"
   ]
  },
  {
   "cell_type": "code",
   "execution_count": 25,
   "metadata": {},
   "outputs": [
    {
     "name": "stdout",
     "output_type": "stream",
     "text": [
      "/Users/macintosh/Desktop/data_engineering_Esentials_using/data/retail_db_json/customers/part-00000\n",
      "/Users/macintosh/Desktop/data_engineering_Esentials_using/data/retail_db_json/products/part-00000\n",
      "/Users/macintosh/Desktop/data_engineering_Esentials_using/data/retail_db_json/departments/part-00000\n",
      "/Users/macintosh/Desktop/data_engineering_Esentials_using/data/retail_db_json/order_items/part-00000\n",
      "/Users/macintosh/Desktop/data_engineering_Esentials_using/data/retail_db_json/order_json/part-00000\n",
      "/Users/macintosh/Desktop/data_engineering_Esentials_using/data/retail_db_json/orders/part-00000\n",
      "/Users/macintosh/Desktop/data_engineering_Esentials_using/data/retail_db_json/categories/part-00000\n"
     ]
    }
   ],
   "source": [
    "for file in src_file_names:\n",
    "    file_path_list = re.split('[/\\\\\\]', file)\n",
    "    ds_name = file_path_list[-2]\n",
    "    file_name = file_path_list[-1]\n",
    "    json_file_path = f'{base_dir}/{ds_name}/{file_name}'\n",
    "    print(json_file_path)"
   ]
  },
  {
   "cell_type": "code",
   "execution_count": 26,
   "metadata": {},
   "outputs": [
    {
     "name": "stdout",
     "output_type": "stream",
     "text": [
      "Processing /Users/macintosh/Desktop/data_engineering_Esentials_using/data/retail_db/customers/part-00000\n"
     ]
    },
    {
     "ename": "NameError",
     "evalue": "name 'schemas' is not defined",
     "output_type": "error",
     "traceback": [
      "\u001b[0;31m---------------------------------------------------------------------------\u001b[0m",
      "\u001b[0;31mNameError\u001b[0m                                 Traceback (most recent call last)",
      "\u001b[0;32m/var/folders/3b/__7994k553n5801pft56525c0000gn/T/ipykernel_17711/1949640793.py\u001b[0m in \u001b[0;36m<module>\u001b[0;34m\u001b[0m\n\u001b[1;32m      5\u001b[0m     \u001b[0mfile_name\u001b[0m \u001b[0;34m=\u001b[0m \u001b[0mfile_path_list\u001b[0m\u001b[0;34m[\u001b[0m\u001b[0;34m-\u001b[0m\u001b[0;36m1\u001b[0m\u001b[0;34m]\u001b[0m\u001b[0;34m\u001b[0m\u001b[0;34m\u001b[0m\u001b[0m\n\u001b[1;32m      6\u001b[0m     \u001b[0mjson_file_path\u001b[0m \u001b[0;34m=\u001b[0m \u001b[0;34mf'{base_dir}/{ds_name}/{file_name}'\u001b[0m\u001b[0;34m\u001b[0m\u001b[0;34m\u001b[0m\u001b[0m\n\u001b[0;32m----> 7\u001b[0;31m     \u001b[0mcolumns\u001b[0m \u001b[0;34m=\u001b[0m \u001b[0mget_column_names\u001b[0m\u001b[0;34m(\u001b[0m\u001b[0mschemas\u001b[0m\u001b[0;34m,\u001b[0m \u001b[0mds_name\u001b[0m\u001b[0;34m)\u001b[0m\u001b[0;34m\u001b[0m\u001b[0;34m\u001b[0m\u001b[0m\n\u001b[0m\u001b[1;32m      8\u001b[0m     \u001b[0mdf\u001b[0m \u001b[0;34m=\u001b[0m \u001b[0mpd\u001b[0m\u001b[0;34m.\u001b[0m\u001b[0mread_csv\u001b[0m\u001b[0;34m(\u001b[0m\u001b[0mfile\u001b[0m\u001b[0;34m,\u001b[0m \u001b[0mnames\u001b[0m\u001b[0;34m=\u001b[0m\u001b[0mcolumns\u001b[0m\u001b[0;34m)\u001b[0m\u001b[0;34m\u001b[0m\u001b[0;34m\u001b[0m\u001b[0m\n\u001b[1;32m      9\u001b[0m     \u001b[0mos\u001b[0m\u001b[0;34m.\u001b[0m\u001b[0mmakedirs\u001b[0m\u001b[0;34m(\u001b[0m\u001b[0;34mf'{tgt_base_dir}/{ds_name}'\u001b[0m\u001b[0;34m,\u001b[0m \u001b[0mexist_ok\u001b[0m\u001b[0;34m=\u001b[0m\u001b[0;32mTrue\u001b[0m\u001b[0;34m)\u001b[0m\u001b[0;34m\u001b[0m\u001b[0;34m\u001b[0m\u001b[0m\n",
      "\u001b[0;31mNameError\u001b[0m: name 'schemas' is not defined"
     ]
    }
   ],
   "source": [
    "for file in src_file_names:\n",
    "    print(f'Processing {file}')\n",
    "    file_path_list = re.split('[/\\\\\\]',file)\n",
    "    ds_name = file_path_list[-2]\n",
    "    file_name = file_path_list[-1]\n",
    "    json_file_path = f'{base_dir}/{ds_name}/{file_name}'\n",
    "    columns = get_column_names(schemas, ds_name)\n",
    "    df = pd.read_csv(file, names=columns)\n",
    "    os.makedirs(f'{tgt_base_dir}/{ds_name}', exist_ok=True)\n",
    "    df.to_json(\n",
    "        json_file_path,\n",
    "        orient='records',\n",
    "        lines=True\n",
    "    )"
   ]
  },
  {
   "cell_type": "code",
   "execution_count": null,
   "metadata": {},
   "outputs": [],
   "source": []
  }
 ],
 "metadata": {
  "kernelspec": {
   "display_name": "Python 3",
   "language": "python",
   "name": "python3"
  },
  "language_info": {
   "codemirror_mode": {
    "name": "ipython",
    "version": 3
   },
   "file_extension": ".py",
   "mimetype": "text/x-python",
   "name": "python",
   "nbconvert_exporter": "python",
   "pygments_lexer": "ipython3",
   "version": "3.9.13"
  },
  "orig_nbformat": 4
 },
 "nbformat": 4,
 "nbformat_minor": 2
}
