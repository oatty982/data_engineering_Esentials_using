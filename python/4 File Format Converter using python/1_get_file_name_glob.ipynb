{
 "cells": [
  {
   "cell_type": "code",
   "execution_count": 1,
   "metadata": {},
   "outputs": [],
   "source": [
    "import glob"
   ]
  },
  {
   "cell_type": "code",
   "execution_count": 2,
   "metadata": {},
   "outputs": [
    {
     "data": {
      "text/plain": [
       "['/Users/macintosh/Desktop/data_engineering_Esentials_using/data/retail_db/',\n",
       " '/Users/macintosh/Desktop/data_engineering_Esentials_using/data/retail_db/customers',\n",
       " '/Users/macintosh/Desktop/data_engineering_Esentials_using/data/retail_db/customers/part-00000',\n",
       " '/Users/macintosh/Desktop/data_engineering_Esentials_using/data/retail_db/products',\n",
       " '/Users/macintosh/Desktop/data_engineering_Esentials_using/data/retail_db/products/part-00000',\n",
       " '/Users/macintosh/Desktop/data_engineering_Esentials_using/data/retail_db/create_db_tables_pg.sql',\n",
       " '/Users/macintosh/Desktop/data_engineering_Esentials_using/data/retail_db/departments',\n",
       " '/Users/macintosh/Desktop/data_engineering_Esentials_using/data/retail_db/departments/part-00000',\n",
       " '/Users/macintosh/Desktop/data_engineering_Esentials_using/data/retail_db/README.md',\n",
       " '/Users/macintosh/Desktop/data_engineering_Esentials_using/data/retail_db/order_items',\n",
       " '/Users/macintosh/Desktop/data_engineering_Esentials_using/data/retail_db/order_items/part-00000',\n",
       " '/Users/macintosh/Desktop/data_engineering_Esentials_using/data/retail_db/order_json',\n",
       " '/Users/macintosh/Desktop/data_engineering_Esentials_using/data/retail_db/order_json/part-00000',\n",
       " '/Users/macintosh/Desktop/data_engineering_Esentials_using/data/retail_db/create_db.sql',\n",
       " '/Users/macintosh/Desktop/data_engineering_Esentials_using/data/retail_db/schemas.json',\n",
       " '/Users/macintosh/Desktop/data_engineering_Esentials_using/data/retail_db/orders',\n",
       " '/Users/macintosh/Desktop/data_engineering_Esentials_using/data/retail_db/orders/part-00000',\n",
       " '/Users/macintosh/Desktop/data_engineering_Esentials_using/data/retail_db/categories',\n",
       " '/Users/macintosh/Desktop/data_engineering_Esentials_using/data/retail_db/categories/part-00000',\n",
       " '/Users/macintosh/Desktop/data_engineering_Esentials_using/data/retail_db/load_db_tables_pg.sql']"
      ]
     },
     "execution_count": 2,
     "metadata": {},
     "output_type": "execute_result"
    }
   ],
   "source": [
    "glob.glob('/Users/macintosh/Desktop/data_engineering_Esentials_using/data/retail_db/**', recursive=True)"
   ]
  },
  {
   "cell_type": "code",
   "execution_count": 3,
   "metadata": {},
   "outputs": [
    {
     "data": {
      "text/plain": [
       "['/Users/macintosh/Desktop/data_engineering_Esentials_using/data/retail_db/customers/part-00000',\n",
       " '/Users/macintosh/Desktop/data_engineering_Esentials_using/data/retail_db/products/part-00000',\n",
       " '/Users/macintosh/Desktop/data_engineering_Esentials_using/data/retail_db/departments/part-00000',\n",
       " '/Users/macintosh/Desktop/data_engineering_Esentials_using/data/retail_db/order_items/part-00000',\n",
       " '/Users/macintosh/Desktop/data_engineering_Esentials_using/data/retail_db/order_json/part-00000',\n",
       " '/Users/macintosh/Desktop/data_engineering_Esentials_using/data/retail_db/orders/part-00000',\n",
       " '/Users/macintosh/Desktop/data_engineering_Esentials_using/data/retail_db/categories/part-00000']"
      ]
     },
     "execution_count": 3,
     "metadata": {},
     "output_type": "execute_result"
    }
   ],
   "source": [
    "glob.glob('/Users/macintosh/Desktop/data_engineering_Esentials_using/data/retail_db/*/*')"
   ]
  },
  {
   "cell_type": "code",
   "execution_count": 6,
   "metadata": {},
   "outputs": [
    {
     "data": {
      "text/plain": [
       "['/Users/macintosh/Desktop/data_engineering_Esentials_using/data/retail_db/customers/part-00000',\n",
       " '/Users/macintosh/Desktop/data_engineering_Esentials_using/data/retail_db/products/part-00000',\n",
       " '/Users/macintosh/Desktop/data_engineering_Esentials_using/data/retail_db/departments/part-00000',\n",
       " '/Users/macintosh/Desktop/data_engineering_Esentials_using/data/retail_db/order_items/part-00000',\n",
       " '/Users/macintosh/Desktop/data_engineering_Esentials_using/data/retail_db/order_json/part-00000',\n",
       " '/Users/macintosh/Desktop/data_engineering_Esentials_using/data/retail_db/orders/part-00000',\n",
       " '/Users/macintosh/Desktop/data_engineering_Esentials_using/data/retail_db/categories/part-00000']"
      ]
     },
     "execution_count": 6,
     "metadata": {},
     "output_type": "execute_result"
    }
   ],
   "source": [
    "src_file_names = glob.glob('/Users/macintosh/Desktop/data_engineering_Esentials_using/data/retail_db/*/part-*')\n",
    "src_file_names"
   ]
  },
  {
   "cell_type": "code",
   "execution_count": 7,
   "metadata": {},
   "outputs": [],
   "source": [
    "import pandas as pd"
   ]
  },
  {
   "cell_type": "code",
   "execution_count": 8,
   "metadata": {},
   "outputs": [
    {
     "name": "stdout",
     "output_type": "stream",
     "text": [
      "Shape of /Users/macintosh/Desktop/data_engineering_Esentials_using/data/retail_db/customers/part-00000 is (12434, 9)\n",
      "Shape of /Users/macintosh/Desktop/data_engineering_Esentials_using/data/retail_db/products/part-00000 is (1344, 6)\n",
      "Shape of /Users/macintosh/Desktop/data_engineering_Esentials_using/data/retail_db/departments/part-00000 is (5, 2)\n",
      "Shape of /Users/macintosh/Desktop/data_engineering_Esentials_using/data/retail_db/order_items/part-00000 is (172197, 6)\n",
      "Shape of /Users/macintosh/Desktop/data_engineering_Esentials_using/data/retail_db/order_json/part-00000 is (68882, 4)\n",
      "Shape of /Users/macintosh/Desktop/data_engineering_Esentials_using/data/retail_db/orders/part-00000 is (68882, 4)\n",
      "Shape of /Users/macintosh/Desktop/data_engineering_Esentials_using/data/retail_db/categories/part-00000 is (57, 3)\n"
     ]
    }
   ],
   "source": [
    "for file_name in src_file_names:\n",
    "    df = pd.read_csv(file_name)\n",
    "    print(f'Shape of {file_name} is {df.shape}')"
   ]
  },
  {
   "cell_type": "code",
   "execution_count": null,
   "metadata": {},
   "outputs": [],
   "source": []
  }
 ],
 "metadata": {
  "kernelspec": {
   "display_name": "Python 3",
   "language": "python",
   "name": "python3"
  },
  "language_info": {
   "codemirror_mode": {
    "name": "ipython",
    "version": 3
   },
   "file_extension": ".py",
   "mimetype": "text/x-python",
   "name": "python",
   "nbconvert_exporter": "python",
   "pygments_lexer": "ipython3",
   "version": "3.9.13"
  },
  "orig_nbformat": 4
 },
 "nbformat": 4,
 "nbformat_minor": 2
}
