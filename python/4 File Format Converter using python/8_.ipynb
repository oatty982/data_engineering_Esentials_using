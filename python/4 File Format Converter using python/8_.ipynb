{
 "cells": [
  {
   "cell_type": "code",
   "execution_count": null,
   "metadata": {},
   "outputs": [],
   "source": [
    "import glob\n",
    "import os\n",
    "import json\n",
    "import re\n",
    "import pandas as pd\n",
    "def get_column_names(schemas, ds_name, sorting_key='column_position'):\n",
    "    column_details = schemas.get(ds_name, [])\n",
    "    columns = sorted(column_details, key=lambda col: col.get(sorting_key, 0)) \n",
    "    return [col['column_name'] for col in columns]\n",
    "def read_csv(file, schemas):\n",
    "    file_path_list = re.split('[/\\\\\\]', file)\n",
    "    ds_name = file_path_list[-2]\n",
    "    file_name = file_path_list[-1]\n",
    "    columns = get_column_names(schemas, ds_name)\n",
    "    df = pd.read_csv(file, names=columns)\n",
    "    return df\n",
    "def to_json(df, tgt_base_dir, ds_name, file_name):\n",
    "    json_file_path = f'{tgt_base_dir}/{ds_name}/{file_name}'\n",
    "    os.makedirs(f'{tgt_base_dir}/{ds_name}', exist_ok=True)\n",
    "    df.to_json(\n",
    "        json_file_path,\n",
    "        orient='records',\n",
    "        lines=True\n",
    "    )\n",
    "\n",
    "def file_converter(src_base_dir,tgt_base_dir,ds_name):\n",
    "    schemas = json.load(open(f'{src_base_dir}/schemas.json'))\n",
    "    files = glob.glob(f'{src_base_dir}/{ds_name}/part-*')\n",
    "\n",
    "    for file in files:\n",
    "        print(f'Processing {file}')\n",
    "        print(f'done {files}')\n",
    "        df = read_csv(file, schemas)\n",
    "        file_name = re.split('[/\\\\\\]', file)[-1]\n",
    "        to_json(df, tgt_base_dir, ds_name, file_name)\n",
    "def process_files(ds_names=None):\n",
    "    src_base_dir = '/Users/macintosh/Desktop/data_engineering_Esentials_using/data/retail_db'\n",
    "    tgt_base_dir = '/Users/macintosh/Desktop/data_engineering_Esentials_using/data/retail_db_json'\n",
    "    schemas = json.load(open(f'{src_base_dir}/schemas.json'))\n",
    "    if not ds_names:\n",
    "        ds_names = schemas.keys()\n",
    "    for ds_name in ds_names:\n",
    "        print(f'Processing {ds_name}')\n",
    "        file_converter(src_base_dir,tgt_base_dir,ds_name)"
   ]
  },
  {
   "cell_type": "code",
   "execution_count": 16,
   "metadata": {},
   "outputs": [
    {
     "name": "stdout",
     "output_type": "stream",
     "text": [
      "Processing orders\n",
      "Processing /Users/macintosh/Desktop/data_engineering_Esentials_using/data/retail_db/orders/part-00000\n",
      "done ['/Users/macintosh/Desktop/data_engineering_Esentials_using/data/retail_db/orders/part-00000']\n",
      "Processing order_items\n",
      "Processing /Users/macintosh/Desktop/data_engineering_Esentials_using/data/retail_db/order_items/part-00000\n",
      "done ['/Users/macintosh/Desktop/data_engineering_Esentials_using/data/retail_db/order_items/part-00000']\n"
     ]
    }
   ],
   "source": [
    "process_files(['orders', 'order_items'])"
   ]
  },
  {
   "cell_type": "code",
   "execution_count": 20,
   "metadata": {},
   "outputs": [
    {
     "data": {
      "text/plain": [
       "{'departments': [{'column_name': 'department_id',\n",
       "   'data_type': 'integer',\n",
       "   'column_position': 1},\n",
       "  {'column_name': 'department_name',\n",
       "   'data_type': 'string',\n",
       "   'column_position': 2}],\n",
       " 'categories': [{'column_name': 'category_id',\n",
       "   'data_type': 'integer',\n",
       "   'column_position': 1},\n",
       "  {'column_name': 'category_department_id',\n",
       "   'data_type': 'integer',\n",
       "   'column_position': 2},\n",
       "  {'column_name': 'category_name',\n",
       "   'data_type': 'string',\n",
       "   'column_position': 3}],\n",
       " 'orders': [{'column_name': 'order_id',\n",
       "   'data_type': 'integer',\n",
       "   'column_position': 1},\n",
       "  {'column_name': 'order_date', 'data_type': 'string', 'column_position': 2},\n",
       "  {'column_name': 'order_customer_id',\n",
       "   'data_type': 'timestamp',\n",
       "   'column_position': 3},\n",
       "  {'column_name': 'order_status',\n",
       "   'data_type': 'string',\n",
       "   'column_position': 4}],\n",
       " 'products': [{'column_name': 'product_id',\n",
       "   'data_type': 'integer',\n",
       "   'column_position': 1},\n",
       "  {'column_name': 'product_cateogry_id',\n",
       "   'data_type': 'integer',\n",
       "   'column_position': 2},\n",
       "  {'column_name': 'product_name', 'data_type': '', 'column_position': 3},\n",
       "  {'column_name': 'product_description',\n",
       "   'data_type': 'string',\n",
       "   'column_position': 4},\n",
       "  {'column_name': 'product_price', 'data_type': 'float', 'column_position': 5},\n",
       "  {'column_name': 'product_image',\n",
       "   'data_type': 'string',\n",
       "   'column_position': 6}],\n",
       " 'customers': [{'column_name': 'customer_id',\n",
       "   'data_type': 'integer',\n",
       "   'column_position': 1},\n",
       "  {'column_name': 'customer_fname',\n",
       "   'data_type': 'string',\n",
       "   'column_position': 2},\n",
       "  {'column_name': 'customer_lname',\n",
       "   'data_type': 'string',\n",
       "   'column_position': 3},\n",
       "  {'column_name': 'customer_email',\n",
       "   'data_type': 'string',\n",
       "   'column_position': 4},\n",
       "  {'column_name': 'customer_password',\n",
       "   'data_type': 'string',\n",
       "   'column_position': 5},\n",
       "  {'column_name': 'customer_street',\n",
       "   'data_type': 'string',\n",
       "   'column_position': 6},\n",
       "  {'column_name': 'customer_city',\n",
       "   'data_type': 'string',\n",
       "   'column_position': 7},\n",
       "  {'column_name': 'customer_state',\n",
       "   'data_type': 'string',\n",
       "   'column_position': 8},\n",
       "  {'column_name': 'customer_zipcode',\n",
       "   'data_type': 'integer',\n",
       "   'column_position': 9}],\n",
       " 'order_items': [{'column_name': 'order_item_id',\n",
       "   'data_type': 'integer',\n",
       "   'column_position': 1},\n",
       "  {'column_name': 'order_item_order_id',\n",
       "   'data_type': 'integer',\n",
       "   'column_position': 2},\n",
       "  {'column_name': 'order_item_product_id',\n",
       "   'data_type': 'integer',\n",
       "   'column_position': 3},\n",
       "  {'column_name': 'order_item_quantity',\n",
       "   'data_type': 'integer',\n",
       "   'column_position': 4},\n",
       "  {'column_name': 'order_item_subtotal',\n",
       "   'data_type': 'float',\n",
       "   'column_position': 5},\n",
       "  {'column_name': 'order_item_product_price',\n",
       "   'data_type': 'float',\n",
       "   'column_position': 6}]}"
      ]
     },
     "execution_count": 20,
     "metadata": {},
     "output_type": "execute_result"
    }
   ],
   "source": [
    "schemas = json.load(open('/Users/macintosh/Desktop/data_engineering_Esentials_using/data/retail_db/schemas.json'))\n",
    "schemas"
   ]
  },
  {
   "cell_type": "code",
   "execution_count": 22,
   "metadata": {},
   "outputs": [
    {
     "data": {
      "text/plain": [
       "dict_keys(['departments', 'categories', 'orders', 'products', 'customers', 'order_items'])"
      ]
     },
     "execution_count": 22,
     "metadata": {},
     "output_type": "execute_result"
    }
   ],
   "source": [
    "schemas.keys()"
   ]
  },
  {
   "cell_type": "code",
   "execution_count": null,
   "metadata": {},
   "outputs": [],
   "source": []
  }
 ],
 "metadata": {
  "kernelspec": {
   "display_name": "Python 3",
   "language": "python",
   "name": "python3"
  },
  "language_info": {
   "codemirror_mode": {
    "name": "ipython",
    "version": 3
   },
   "file_extension": ".py",
   "mimetype": "text/x-python",
   "name": "python",
   "nbconvert_exporter": "python",
   "pygments_lexer": "ipython3",
   "version": "3.9.13"
  },
  "orig_nbformat": 4
 },
 "nbformat": 4,
 "nbformat_minor": 2
}
